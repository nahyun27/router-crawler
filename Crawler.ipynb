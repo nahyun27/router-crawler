{
 "cells": [
  {
   "cell_type": "code",
   "execution_count": 132,
   "id": "2ab54ab6",
   "metadata": {},
   "outputs": [
    {
     "name": "stdout",
     "output_type": "stream",
     "text": [
      "<selenium.webdriver.remote.webelement.WebElement (session=\"dcb0c5fd5b60f5864a140c781b7ec772\", element=\"31c3be60-e9a8-443a-9767-43c76b000ec7\")>\n",
      "PC name is : stm32mp1\n",
      "IP address is : 192.168.0.8\n",
      "MAC address is : 00-80-E1-42-80-DC\n"
     ]
    },
    {
     "name": "stderr",
     "output_type": "stream",
     "text": [
      "/opt/anaconda3/lib/python3.8/site-packages/selenium/webdriver/remote/webelement.py:501: UserWarning: find_elements_by_* commands are deprecated. Please use find_elements() instead\n",
      "  warnings.warn(\"find_elements_by_* commands are deprecated. Please use find_elements() instead\")\n"
     ]
    }
   ],
   "source": [
    "from selenium import webdriver\n",
    "from selenium.webdriver.common.keys import Keys\n",
    "from selenium.webdriver.common.by import By\n",
    "from selenium.webdriver import ActionChains\n",
    "\n",
    "driver = webdriver.Chrome()\n",
    "driver.get('http://192.168.0.1/sess-bin/login_session.cgi')\n",
    "driver.implicitly_wait(3)\n",
    "\n",
    "# password\n",
    "pw_elem = driver.find_element(By.ID, \"passwd_td\").click()\n",
    "input_pw = driver.find_element(By.NAME, \"passwd\")\n",
    "input_pw.send_keys('admin')\n",
    "\n",
    "# login(submit_button) 엔터키\n",
    "driver.find_element(By.ID, \"submit_bt\").click()\n",
    "\n",
    "# 관리 도구\n",
    "management_elem = driver.find_element(By.TAG_NAME, \"img\")\n",
    "actionChains = ActionChains(driver)\n",
    "actionChains.move_to_element_with_offset(management_elem, 100, 150)\n",
    "actionChains.click().perform()\n",
    "\n",
    "# 고급 설정 클릭\n",
    "frame = driver.find_element(By.NAME,\"main_body\")\n",
    "driver.switch_to.frame(frame)\n",
    "\n",
    "menu_table = driver.find_element(By.CLASS_NAME, \"menu_table\")\n",
    "\n",
    "tbody = menu_table.find_element(By.TAG_NAME, \"tbody\")\n",
    "\n",
    "iframe = tbody.find_element(By.NAME, \"navi_menu_advance\")\n",
    "driver.switch_to.frame(iframe)\n",
    "\n",
    "form = driver.find_element(By.NAME, \"navi_advance_form\")\n",
    "\n",
    "menu_td = form.find_element(By.ID, \"advance_setup_td\")\n",
    "\n",
    "\n",
    "advance_menu = menu_td.find_element(By.TAG_NAME, \"span\").click()\n",
    "\n",
    "# 네트워크 관리 클릭\n",
    "network_menu_td = form.find_element(By.ID, \"netconf_setup_td\")\n",
    "\n",
    "network_management = network_menu_td.find_element(By.TAG_NAME, \"span\")\n",
    "network_management.click()\n",
    "\n",
    "# DHCP 서버 설정 클릭\n",
    "\n",
    "DHCP = form.find_element(By.ID, \"netconf_dhcpd_3_td\")\n",
    "DHCP_span = DHCP.find_element(By.TAG_NAME, \"span\")\n",
    "DHCP_span.find_element(By.TAG_NAME, \"a\").click()\n",
    "\n",
    "# DHCP 서버 설정\n",
    "driver.switch_to.parent_frame()\n",
    "main_tbody = menu_table.find_element(By.TAG_NAME, \"tbody\")\n",
    "\n",
    "main_iframe = main_tbody.find_element(By.NAME, \"main\")\n",
    "driver.switch_to.frame(main_iframe)\n",
    "\n",
    "DHCP_form = driver.find_element(By.NAME, \"netconf_dhcp\")\n",
    "DHCP_tbody = DHCP_form.find_element(By.TAG_NAME, \"tbody\")\n",
    "\n",
    "# 사용중인 IP 주소 정보\n",
    "PC_info_iframe = DHCP_tbody.find_element(By.NAME, \"dhcp_pcinfo\")\n",
    "driver.switch_to.frame(PC_info_iframe)\n",
    "\n",
    "PC_info_form = driver.find_element(By.NAME, \"dhcp_pcinfo_fm\")\n",
    "PC_info_tbody = PC_info_form.find_element(By.TAG_NAME, \"tbody\")\n",
    "print(PC_info_tbody)\n",
    "\n",
    "# \"stm32mp*\"의 mac 주소, ip 주소 가져오기\n",
    "PC_lines = PC_info_tbody.find_elements_by_css_selector(\".dhcp_main_tr\")\n",
    "for line in PC_lines :\n",
    "    PC_name_td = line.find_elements_by_css_selector(\".dhcp_main_td\")[2]\n",
    "    PC_name_span = PC_name_td.find_element(By.TAG_NAME, \"span\")\n",
    "    if PC_name_span.text.find(\"stm32mp\") != -1:\n",
    "        ip_address = line.find_elements_by_css_selector(\".dhcp_main_td\")[0]\n",
    "        mac_address = line.find_elements_by_css_selector(\".dhcp_main_td\")[1]\n",
    "        \n",
    "        print(\"PC name is : \" + PC_name_span.text)\n",
    "        print(\"IP address is : \" + ip_address.text)\n",
    "        print(\"MAC address is : \" + mac_address.text)\n",
    "        \n",
    "\n"
   ]
  },
  {
   "cell_type": "code",
   "execution_count": null,
   "id": "785c2c6b",
   "metadata": {},
   "outputs": [],
   "source": []
  },
  {
   "cell_type": "code",
   "execution_count": null,
   "id": "a4fbd885",
   "metadata": {},
   "outputs": [],
   "source": []
  }
 ],
 "metadata": {
  "kernelspec": {
   "display_name": "Python 3",
   "language": "python",
   "name": "python3"
  },
  "language_info": {
   "codemirror_mode": {
    "name": "ipython",
    "version": 3
   },
   "file_extension": ".py",
   "mimetype": "text/x-python",
   "name": "python",
   "nbconvert_exporter": "python",
   "pygments_lexer": "ipython3",
   "version": "3.8.8"
  }
 },
 "nbformat": 4,
 "nbformat_minor": 5
}
